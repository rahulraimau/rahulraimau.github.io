{
 "cells": [
  {
   "cell_type": "code",
   "execution_count": 6,
   "id": "33e81321-6957-4163-b48d-92b89cc04404",
   "metadata": {
    "include-cell-in-app": true
   },
   "outputs": [
    {
     "name": "stdout",
     "output_type": "stream",
     "text": [
      "| isbn13        | isbn10     | title          | subtitle   | authors                         | categories                    | thumbnail                                                                                             | description                                                                                                                                                                                                                                                                                                                                                                                                                                                                                                                                                                                                                                                                                                                                                                                                                                                                                                                                                                                                                                                                                                                                                                                                                                      | published_year   | average_rating   | num_pages   | ratings_count   |\n",
      "|:--------------|:-----------|:---------------|:-----------|:--------------------------------|:------------------------------|:------------------------------------------------------------------------------------------------------|:-------------------------------------------------------------------------------------------------------------------------------------------------------------------------------------------------------------------------------------------------------------------------------------------------------------------------------------------------------------------------------------------------------------------------------------------------------------------------------------------------------------------------------------------------------------------------------------------------------------------------------------------------------------------------------------------------------------------------------------------------------------------------------------------------------------------------------------------------------------------------------------------------------------------------------------------------------------------------------------------------------------------------------------------------------------------------------------------------------------------------------------------------------------------------------------------------------------------------------------------------|:-----------------|:-----------------|:------------|:----------------|\n",
      "| 9780002005883 | 0002005883 | Gilead         | nan        | Marilynne Robinson              | Fiction                       | http://books.google.com/books/content?id=KQZCPgAACAAJ&printsec=frontcover&img=1&zoom=1&source=gbs_api | A NOVEL THAT READERS and critics have been eagerly anticipating for over a decade, Gilead is an astonishingly imagined story of remarkable lives. John Ames is a preacher, the son of a preacher and the grandson (both maternal and paternal) of preachers. It’s 1956 in Gilead, Iowa, towards the end of the Reverend Ames’s life, and he is absorbed in recording his family’s story, a legacy for the young son he will never see grow up. Haunted by his grandfather’s presence, John tells of the rift between his grandfather and his father: the elder, an angry visionary who fought for the abolitionist cause, and his son, an ardent pacifist. He is troubled, too, by his prodigal namesake, Jack (John Ames) Boughton, his best friend’s lost son who returns to Gilead searching for forgiveness and redemption. Told in John Ames’s joyous, rambling voice that finds beauty, humour and truth in the smallest of life’s details, Gilead is a song of celebration and acceptance of the best and the worst the world has to offer. At its heart is a tale of the sacred bonds between fathers and sons, pitch-perfect in style and story, set to dazzle critics and readers alike.                                               | 2004             | 3.85             | 247         | 361             |\n",
      "| 9780002261982 | 0002261987 | Spider's Web   | A Novel    | Charles Osborne;Agatha Christie | Detective and mystery stories | http://books.google.com/books/content?id=gA5GPgAACAAJ&printsec=frontcover&img=1&zoom=1&source=gbs_api | A new 'Christie for Christmas' -- a full-length novel adapted from her acclaimed play by Charles Osborne Following BLACK COFFEE and THE UNEXPECTED GUEST comes the final Agatha Christie play novelisation, bringing her superb storytelling to a new legion of fans. Clarissa, the wife of a Foreign Office diplomat, is given to daydreaming. 'Supposing I were to come down one morning and find a dead body in the library, what should I do?' she muses. Clarissa has her chance to find out when she discovers a body in the drawing-room of her house in Kent. Desperate to dispose of the body before her husband comes home with an important foreign politician, Clarissa persuades her three house guests to become accessories and accomplices. It seems that the murdered man was not unknown to certain members of the house party (but which ones?), and the search begins for the murderer and the motive, while at the same time trying to persuade a police inspector that there has been no murder at all... SPIDER'S WEB was written in 1954 specifically for Margaret Lockwood and opened first at the Theatre Royal Nottingham before moving to the Savoy Theatre in London on 14 December 1954. With THE MOUSETRAP and WI | 2000             | 3.83             | 241         | 5164            |\n",
      "| 9780006163831 | 0006163831 | The One Tree   | nan        | Stephen R. Donaldson            | American fiction              | http://books.google.com/books/content?id=OmQawwEACAAJ&printsec=frontcover&img=1&zoom=1&source=gbs_api | Volume Two of Stephen Donaldson's acclaimed second trilogy featuing the compelling anti-hero Thomas Covenant.                                                                                                                                                                                                                                                                                                                                                                                                                                                                                                                                                                                                                                                                                                                                                                                                                                                                                                                                                                                                                                                                                                                                    | 1982             | 3.97             | 479         | 172             |\n",
      "| 9780006178736 | 0006178731 | Rage of angels | nan        | Sidney Sheldon                  | Fiction                       | http://books.google.com/books/content?id=FKo2TgANz74C&printsec=frontcover&img=1&zoom=1&source=gbs_api | A memorable, mesmerizing heroine Jennifer -- brilliant, beautiful, an attorney on the way up until the Mafia's schemes win her the hatred of an implacable enemy -- and a love more destructive than hate. A dangerous, dramatic world The Dark Arena of organized crime and flashbulb lit courtrooms where ambitious prosecutors begin their climb to political power.                                                                                                                                                                                                                                                                                                                                                                                                                                                                                                                                                                                                                                                                                                                                                                                                                                                                          | 1993             | 3.93             | 512         | 29532           |\n",
      "| 9780006280897 | 0006280897 | The Four Loves | nan        | Clive Staples Lewis             | Christian life                | http://books.google.com/books/content?id=XhQ5XsFcpGIC&printsec=frontcover&img=1&zoom=1&source=gbs_api | Lewis' work on the nature of love divides love into four categories; Affection, Friendship, Eros and Charity. The first three come naturally to humanity. Charity, however, the Gift-love of God, is divine, and without this supernatural love, the natural loves become distorted and even dangerous.                                                                                                                                                                                                                                                                                                                                                                                                                                                                                                                                                                                                                                                                                                                                                                                                                                                                                                                                          | 2002             | 4.15             | 170         | 33684           |\n",
      "<class 'pandas.core.frame.DataFrame'>\n",
      "RangeIndex: 6810 entries, 0 to 6809\n",
      "Data columns (total 12 columns):\n",
      " #   Column          Non-Null Count  Dtype  \n",
      "---  ------          --------------  -----  \n",
      " 0   isbn13          6810 non-null   int64  \n",
      " 1   isbn10          6810 non-null   object \n",
      " 2   title           6810 non-null   object \n",
      " 3   subtitle        2381 non-null   object \n",
      " 4   authors         6738 non-null   object \n",
      " 5   categories      6711 non-null   object \n",
      " 6   thumbnail       6481 non-null   object \n",
      " 7   description     6548 non-null   object \n",
      " 8   published_year  6804 non-null   float64\n",
      " 9   average_rating  6767 non-null   float64\n",
      " 10  num_pages       6767 non-null   float64\n",
      " 11  ratings_count   6767 non-null   float64\n",
      "dtypes: float64(4), int64(1), object(7)\n",
      "memory usage: 638.6+ KB\n",
      "None\n"
     ]
    }
   ],
   "source": [
    "import pandas as pd\n",
    "\n",
    "# Read the CSV file into a DataFrame\n",
    "df = pd.read_csv(r\"C:\\Users\\DELL\\Downloads\\data.csv (1)\\data.csv\")\n",
    "\n",
    "# Display the first 5 rows\n",
    "print(df.head().to_markdown(index=False, numalign=\"left\", stralign=\"left\"))\n",
    "\n",
    "# Print the column names and their data types\n",
    "print(df.info())"
   ]
  },
  {
   "cell_type": "code",
   "execution_count": 11,
   "id": "d469bc0b-7675-44a9-96f9-3f47b1c26a3a",
   "metadata": {
    "include-cell-in-app": true
   },
   "outputs": [
    {
     "name": "stderr",
     "output_type": "stream",
     "text": [
      "C:\\Users\\DELL\\AppData\\Local\\Temp\\ipykernel_23268\\2689016663.py:5: SettingWithCopyWarning: \n",
      "A value is trying to be set on a copy of a slice from a DataFrame.\n",
      "Try using .loc[row_indexer,col_indexer] = value instead\n",
      "\n",
      "See the caveats in the documentation: https://pandas.pydata.org/pandas-docs/stable/user_guide/indexing.html#returning-a-view-versus-a-copy\n",
      "  df_text['description'] = df_text['description'].fillna('')\n",
      "C:\\Users\\DELL\\AppData\\Local\\Temp\\ipykernel_23268\\2689016663.py:6: SettingWithCopyWarning: \n",
      "A value is trying to be set on a copy of a slice from a DataFrame.\n",
      "Try using .loc[row_indexer,col_indexer] = value instead\n",
      "\n",
      "See the caveats in the documentation: https://pandas.pydata.org/pandas-docs/stable/user_guide/indexing.html#returning-a-view-versus-a-copy\n",
      "  df_text['title'] = df_text['title'].fillna('')\n",
      "C:\\Users\\DELL\\AppData\\Local\\Temp\\ipykernel_23268\\2689016663.py:9: SettingWithCopyWarning: \n",
      "A value is trying to be set on a copy of a slice from a DataFrame.\n",
      "Try using .loc[row_indexer,col_indexer] = value instead\n",
      "\n",
      "See the caveats in the documentation: https://pandas.pydata.org/pandas-docs/stable/user_guide/indexing.html#returning-a-view-versus-a-copy\n",
      "  df_text['combined_features'] = df_text['description'] + ' ' + df_text['title']\n"
     ]
    }
   ],
   "source": [
    "# Select only the `description` and `title` columns\n",
    "df_text = df[['description', 'title']]\n",
    "\n",
    "# Fill missing values in `description` and `title` columns with an empty string\n",
    "df_text['description'] = df_text['description'].fillna('')\n",
    "df_text['title'] = df_text['title'].fillna('')\n",
    "\n",
    "# Combine the `description` and `title` columns into a new column called `combined_features`\n",
    "df_text['combined_features'] = df_text['description'] + ' ' + df_text['title']\n",
    "\n",
    "# Save the updated DataFrame to a new CSV file\n",
    "df_text.to_csv('preprocessed_data.csv', index=False)"
   ]
  },
  {
   "cell_type": "code",
   "execution_count": 12,
   "id": "ae8162ef-3121-4fbb-bcce-cb841f093e8a",
   "metadata": {
    "include-cell-in-app": true
   },
   "outputs": [],
   "source": [
    "import pandas as pd\n",
    "from sklearn.feature_extraction.text import TfidfVectorizer\n",
    "from sklearn.metrics.pairwise import cosine_similarity\n",
    "\n",
    "# Load the data - assuming preprocessed_data.csv is available\n",
    "df_text = pd.read_csv('preprocessed_data.csv')"
   ]
  },
  {
   "cell_type": "code",
   "execution_count": 13,
   "id": "a74e7649-7731-47f4-ace2-6e4aaf2c6476",
   "metadata": {
    "include-cell-in-app": true
   },
   "outputs": [],
   "source": [
    "# Initialize the TF-IDF Vectorizer\n",
    "# stop_words='english' removes common English words that don't add much meaning\n",
    "tfidf_vectorizer = TfidfVectorizer(stop_words='english')\n",
    "\n",
    "# Fit and transform the 'combined_features' column\n",
    "# This converts the text data into a matrix of TF-IDF features\n",
    "tfidf_matrix = tfidf_vectorizer.fit_transform(df_text['combined_features'])\n",
    "\n",
    "# Compute the cosine similarity matrix\n",
    "# Cosine similarity measures the similarity between two non-zero vectors\n",
    "# It is a commonly used metric for text similarity\n",
    "cosine_sim = cosine_similarity(tfidf_matrix, tfidf_matrix)"
   ]
  },
  {
   "cell_type": "code",
   "execution_count": 14,
   "id": "7ae9cdcf-d8d5-4536-a440-5bc56269b07a",
   "metadata": {
    "include-cell-in-app": true
   },
   "outputs": [],
   "source": [
    "def get_recommendations(title, cosine_sim_matrix=cosine_sim, df=df_text):\n",
    "    \"\"\"\n",
    "    Generates book recommendations based on a given book title using cosine similarity.\n",
    "\n",
    "    Args:\n",
    "        title (str): The title of the book for which to find recommendations.\n",
    "        cosine_sim_matrix (np.array): The pre-computed cosine similarity matrix.\n",
    "        df (pd.DataFrame): The DataFrame containing book titles and combined features.\n",
    "\n",
    "    Returns:\n",
    "        list: A list of recommended book titles, or a string message if the book is not found.\n",
    "    \"\"\"\n",
    "    # Get the index of the book that matches the title (case-insensitive)\n",
    "    # .str.contains is used for partial matching, na=False handles potential NaN values\n",
    "    idx = df[df['title'].str.contains(title, case=False, na=False)].index\n",
    "\n",
    "    # Check if any book matches the input title\n",
    "    if len(idx) == 0:\n",
    "        return \"Book not found. Please try another title.\"\n",
    "    else:\n",
    "        # If multiple matches, take the first one (can be improved for user selection)\n",
    "        idx = idx[0]\n",
    "\n",
    "    # Get the pairwise similarity scores of all books with the selected book\n",
    "    # enumerate adds an index to each similarity score\n",
    "    sim_scores = list(enumerate(cosine_sim_matrix[idx]))\n",
    "\n",
    "    # Sort the books based on the similarity scores in descending order\n",
    "    # lambda x: x[1] specifies sorting by the similarity score (the second element of the tuple)\n",
    "    sim_scores = sorted(sim_scores, key=lambda x: x[1], reverse=True)\n",
    "\n",
    "    # Get the scores of the 5 most similar books.\n",
    "    # sim_scores[1:6] excludes the book itself (which would have a similarity of 1 with itself)\n",
    "    # and takes the next 5 most similar books.\n",
    "    sim_scores = sim_scores[1:6]\n",
    "\n",
    "    # Get the book indices from the sorted similarity scores\n",
    "    book_indices = [i[0] for i in sim_scores]\n",
    "\n",
    "    # Return the titles of the top 5 most similar books\n",
    "    return df['title'].iloc[book_indices].tolist()"
   ]
  },
  {
   "cell_type": "code",
   "execution_count": null,
   "id": "f8abd675-6a93-4459-9c9a-953d1f8905d4",
   "metadata": {
    "include-cell-in-app": true
   },
   "outputs": [
    {
     "name": "stdout",
     "output_type": "stream",
     "text": [
      "Welcome to the Book Recommendation Chatbot!\n",
      "Enter a book title to get recommendations, or type 'exit' to quit.\n"
     ]
    },
    {
     "name": "stdin",
     "output_type": "stream",
     "text": [
      "\n",
      "Enter a book title:  history\n"
     ]
    },
    {
     "name": "stdout",
     "output_type": "stream",
     "text": [
      "\n",
      "Recommended books:\n",
      "- History -\n",
      "- A history of God\n",
      "- A history of philosophy\n",
      "- The Philosophy of History\n",
      "- The Fate of Reason\n"
     ]
    }
   ],
   "source": [
    "# 5. Chatbot Interaction\n",
    "print(\"Welcome to the Book Recommendation Chatbot!\")\n",
    "print(\"Enter a book title to get recommendations, or type 'exit' to quit.\")\n",
    "\n",
    "while True:\n",
    "    user_input = input(\"\\nEnter a book title: \")\n",
    "    if user_input.lower() == 'exit':\n",
    "        print(\"Goodbye!\")\n",
    "        break\n",
    "    \n",
    "    recommendations = get_recommendations(user_input)\n",
    "    \n",
    "    if isinstance(recommendations, list):\n",
    "        print(\"\\nRecommended books:\")\n",
    "        for book in recommendations:\n",
    "            print(f\"- {book}\")\n",
    "    else:\n",
    "        print(recommendations)\n"
   ]
  },
  {
   "cell_type": "code",
   "execution_count": null,
   "id": "29b57ea3-e958-414d-8ffa-47deea360fe5",
   "metadata": {
    "include-cell-in-app": true
   },
   "outputs": [],
   "source": []
  }
 ],
 "metadata": {
  "kernelspec": {
   "display_name": "Python [conda env:base] *",
   "language": "python",
   "name": "conda-base-py"
  },
  "language_info": {
   "codemirror_mode": {
    "name": "ipython",
    "version": 3
   },
   "file_extension": ".py",
   "mimetype": "text/x-python",
   "name": "python",
   "nbconvert_exporter": "python",
   "pygments_lexer": "ipython3",
   "version": "3.12.7"
  }
 },
 "nbformat": 4,
 "nbformat_minor": 5
}
