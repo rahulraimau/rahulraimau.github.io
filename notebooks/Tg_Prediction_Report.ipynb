{
 "cells": [
  {
   "cell_type": "markdown",
   "id": "8aa77556",
   "metadata": {
    "include-cell-in-app": true
   },
   "source": [
    "# Glass Transition Temperature Prediction\n",
    "This notebook demonstrates the process of data preprocessing, model training, evaluation, and saving the best model for predicting the glass transition temperature (Tg) from molecular data."
   ]
  },
  {
   "cell_type": "code",
   "execution_count": null,
   "id": "35ea7e92",
   "metadata": {
    "include-cell-in-app": true
   },
   "outputs": [],
   "source": [
    "import pandas as pd\n",
    "# Load the dataset\n",
    "imputed_df = pd.read_csv('train.csv', encoding='ascii')\n",
    "# Show the first few rows\n",
    "imputed_df.head()"
   ]
  },
  {
   "cell_type": "markdown",
   "id": "d8a92414",
   "metadata": {},
   "source": [
    "\n",
    "The dataset contains molecular features and the target variable Tg. We inspect the data to understand its structure and check for missing values."
   ]
  },
  {
   "cell_type": "code",
   "execution_count": null,
   "id": "c72db8b3",
   "metadata": {
    "include-cell-in-app": true
   },
   "outputs": [],
   "source": [
    "# Extract features and target\n",
    "X = imputed_df[['FFV', 'Tc', 'Density', 'Rg']]\n",
    "Y = imputed_df['Tg']\n",
    "# Check for missing values\n",
    "X.isnull().sum(), Y.isnull().sum()"
   ]
  },
  {
   "cell_type": "markdown",
   "id": "7d89b8b2",
   "metadata": {},
   "source": [
    "\n",
    "We scale the features using StandardScaler to normalize their ranges, which helps many models perform better."
   ]
  },
  {
   "cell_type": "code",
   "execution_count": null,
   "id": "d68e0278",
   "metadata": {},
   "outputs": [],
   "source": [
    "from sklearn.preprocessing import StandardScaler\n",
    "from sklearn.model_selection import train_test_split\n",
    "\n",
    "scaler = StandardScaler()\n",
    "X_scaled = scaler.fit_transform(X)\n",
    "\n",
    "X_train, X_test, y_train, y_test = train_test_split(X_scaled, Y, test_size=0.2, random_state=42)"
   ]
  },
  {
   "cell_type": "markdown",
   "id": "0e6768ee",
   "metadata": {},
   "source": [
    "\n",
    "We train multiple models: Random Forest, Gradient Boosting, Linear Regression, Support Vector Regression, and K-Nearest Neighbors. We evaluate their performance using Mean Squared Error (MSE) on the test set."
   ]
  },
  {
   "cell_type": "code",
   "execution_count": null,
   "id": "721c8103",
   "metadata": {
    "include-cell-in-app": true
   },
   "outputs": [],
   "source": [
    "from sklearn.ensemble import RandomForestRegressor, GradientBoostingRegressor\n",
    "from sklearn.linear_model import LinearRegression\n",
    "from sklearn.svm import SVR\n",
    "from sklearn.neighbors import KNeighborsRegressor\n",
    "from sklearn.metrics import mean_squared_error\n",
    "\n",
    "models = {\n",
    "    'Random Forest': RandomForestRegressor(n_estimators=100, random_state=42),\n",
    "    'Gradient Boosting': GradientBoostingRegressor(n_estimators=100, random_state=42),\n",
    "    'Linear Regression': LinearRegression(),\n",
    "    'Support Vector Regression': SVR(),\n",
    "    'K-Nearest Neighbors': KNeighborsRegressor()\n",
    "}\n",
    "\n",
    "results = {}\n",
    "for name, model in models.items():\n",
    "    model.fit(X_train, y_train)\n",
    "    y_pred = model.predict(X_test)\n",
    "    mse = mean_squared_error(y_test, y_pred)\n",
    "    results[name] = mse\n",
    "    print(f\"{name} Test MSE: {mse}\")\n",
    "\n",
    "# Identify the best model\n",
    "best_model_name = min(results, key=results.get)\n",
    "print(f\"Best model: {best_model_name} with MSE: {results[best_model_name]}\")\n",
    "\n",
    "# Save the best model\n",
    "import joblib\n",
    "joblib.dump(models[best_model_name], 'rf_model.pkl')\n",
    "joblib.dump(scaler, 'scaler.pkl')"
   ]
  },
  {
   "cell_type": "markdown",
   "id": "61473552",
   "metadata": {},
   "source": [
    "\n",
    "The feature importance from the Random Forest model indicates which features most influence the prediction of Tg."
   ]
  },
  {
   "cell_type": "code",
   "execution_count": null,
   "id": "3fff1afd",
   "metadata": {
    "include-cell-in-app": true
   },
   "outputs": [],
   "source": [
    "import matplotlib.pyplot as plt\n",
    "import numpy as np\n",
    "\n",
    "importances = models['Random Forest'].feature_importances_\n",
    "feature_names = ['FFV', 'Tc', 'Density', 'Rg']\n",
    "\n",
    "plt.figure(figsize=(8, 6))\n",
    "plt.barh(feature_names, importances)\n",
    "plt.xlabel('Feature Importance')\n",
    "plt.title('Feature Importance from Random Forest')\n",
    "plt.gca().invert_yaxis()\n",
    "plt.show()"
   ]
  },
  {
   "cell_type": "markdown",
   "id": "c5314704",
   "metadata": {},
   "source": [
    "\n",
    "The trained model, scaler, and submission files are saved and ready for download."
   ]
  },
  {
   "cell_type": "code",
   "execution_count": null,
   "id": "765d357d",
   "metadata": {},
   "outputs": [],
   "source": [
    "import joblib\n",
    "joblib.dump(models['Random Forest'], 'rf_model.pkl')\n",
    "joblib.dump(scaler, 'scaler.pkl')\n",
    "\n",
    "# List of files for download\n",
    "files = ['rf_model.pkl', 'scaler.pkl', 'submission.csv']\n",
    "files"
   ]
  }
 ],
 "metadata": {
  "kernelspec": {
   "display_name": "Python [conda env:base] *",
   "language": "python",
   "name": "conda-base-py"
  },
  "language_info": {
   "codemirror_mode": {
    "name": "ipython",
    "version": 3
   },
   "file_extension": ".py",
   "mimetype": "text/x-python",
   "name": "python",
   "nbconvert_exporter": "python",
   "pygments_lexer": "ipython3",
   "version": "3.12.7"
  }
 },
 "nbformat": 4,
 "nbformat_minor": 5
}
